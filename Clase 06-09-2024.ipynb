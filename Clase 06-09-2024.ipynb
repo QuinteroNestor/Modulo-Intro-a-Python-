{
 "cells": [
  {
   "cell_type": "markdown",
   "id": "024a5081-e450-428b-9a79-7b3c47afdec8",
   "metadata": {},
   "source": [
    "# Clase 06-09-2024"
   ]
  },
  {
   "cell_type": "markdown",
   "id": "a5f38b29-94e0-445c-823c-5f57f601414c",
   "metadata": {},
   "source": [
    "# Continuación de Introducción  a NumPy"
   ]
  },
  {
   "cell_type": "markdown",
   "id": "e9eedb6a-b973-4c96-92d0-6b236687e4b4",
   "metadata": {},
   "source": [
    "## 2. Operaciones básicas con arrays\n",
    "\n",
    "En Numpy se pueden realizar una gran variedad de operaciones."
   ]
  },
  {
   "cell_type": "code",
   "execution_count": 6,
   "id": "792de3e0-8c66-443a-9c9f-d08d3f95e919",
   "metadata": {},
   "outputs": [
    {
     "name": "stdout",
     "output_type": "stream",
     "text": [
      "Suma: [5 7 8]\n",
      "Suma alternativa: [5 7 8]\n",
      "\n",
      "Resta: [-3 -3 -2]\n",
      "Resta alternativa: [-3 -3 -2]\n",
      "\n",
      "Multiplicación: [ 4 10 15]\n",
      "Multiplicación alternativa: [ 4 10 15]\n",
      "\n",
      "División: [0.25 0.4  0.6 ]\n",
      "División alternativa: [0.25 0.4  0.6 ]\n"
     ]
    }
   ],
   "source": [
    "# Importar NumPy\n",
    "import numpy as np\n",
    "\n",
    "a = np.array([1, 2, 3])\n",
    "b = np.array([4, 5, 5])\n",
    "# a y b deben tener el mismo tamaño\n",
    "\n",
    "# Suma\n",
    "suma = np.add(a, b)\n",
    "\n",
    "print(f'Suma: {suma}')\n",
    "print(f'Suma alternativa: {a+b}')\n",
    "\n",
    "# Resta\n",
    "resta = np.subtract(a, b)\n",
    "\n",
    "print(f'\\nResta: {resta}')\n",
    "print(f'Resta alternativa: {a-b}')\n",
    "\n",
    "# Multiplicación\n",
    "multiplicacion = np.multiply(a,b)\n",
    "\n",
    "print(f'\\nMultiplicación: {multiplicacion}')\n",
    "print(f'Multiplicación alternativa: {a*b}')\n",
    "\n",
    "\n",
    "# División\n",
    "division = np.divide(a,b)\n",
    "\n",
    "print(f'\\nDivisión: {division}')\n",
    "print(f'División alternativa: {a/b}')"
   ]
  },
  {
   "cell_type": "code",
   "execution_count": 16,
   "id": "d570e0f1-69a4-4198-bf65-faa94990c88b",
   "metadata": {},
   "outputs": [
    {
     "name": "stdout",
     "output_type": "stream",
     "text": [
      "[11 12 13 14 15]\n",
      "[ 1  4  9 16 25]\n",
      "[False False False  True  True]\n"
     ]
    }
   ],
   "source": [
    "array_enteros = np.array([1, 2, 3, 4, 5])\n",
    "\n",
    "# Suma de un escalar a todos los elementos del array\n",
    "nuevo_array = array_enteros + 10\n",
    "print(nuevo_array)\n",
    "\n",
    "# Multiplicación de escalar por todos los elementos del array\n",
    "array_cuadrado = array_enteros**2\n",
    "print(array_cuadrado)\n",
    "\n",
    "# Comparación con un escalar\n",
    "array_logico = array_enteros > 3\n",
    "print(array_logico)"
   ]
  },
  {
   "cell_type": "markdown",
   "id": "a29ac041-9b2c-4b38-acc8-dd37d1cce107",
   "metadata": {},
   "source": [
    "## 3. Operaciones con vectores"
   ]
  },
  {
   "cell_type": "code",
   "execution_count": 21,
   "id": "835ac988-f452-48b5-b49d-a799d6132371",
   "metadata": {},
   "outputs": [
    {
     "name": "stdout",
     "output_type": "stream",
     "text": [
      "Magnitud vector_2d: 5.0\n",
      "Magnitud vector_3d: 3.742\n"
     ]
    }
   ],
   "source": [
    "# Importamos NumPy\n",
    "import numpy as np\n",
    "\n",
    "# Definamos los vectores\n",
    "# Vector 2D representado como un array\n",
    "vector_2d = np.array([3, 4])\n",
    "\n",
    "# Componentes tan-1(y/x)\n",
    "# Vector 3D representado como un array\n",
    "vector_3d = np.array([1, 2, 3])\n",
    "\n",
    "# Magnitud:\n",
    "# Usamos la función np.linalg.norm()\n",
    "\n",
    "# Imprimir la magnitud\n",
    "print(f'Magnitud vector_2d: {np.linalg.norm(vector_2d)}')\n",
    "print(f'Magnitud vector_3d: {np.linalg.norm(vector_3d):.3f}')"
   ]
  },
  {
   "cell_type": "code",
   "execution_count": 26,
   "id": "9e915ff1-d817-4c52-83b2-15e259ff966d",
   "metadata": {},
   "outputs": [
    {
     "name": "stdout",
     "output_type": "stream",
     "text": [
      "Dirección vector_2d en grados: 53.130 grados\n"
     ]
    }
   ],
   "source": [
    "# Dirección:\n",
    "# ángulo en radianes\n",
    "\n",
    "ang_radianes = np.arctan2(vector_2d[1],vector_2d[0])\n",
    "\n",
    "# Conversión a grados\n",
    "ang_grados = np.degrees(ang_radianes)\n",
    "print(f'Dirección vector_2d en grados: {ang_grados:.3f} grados')"
   ]
  },
  {
   "cell_type": "code",
   "execution_count": 28,
   "id": "3510d934-495b-45d8-8172-30b889aea22f",
   "metadata": {},
   "outputs": [
    {
     "name": "stdout",
     "output_type": "stream",
     "text": [
      "vector unitario: [0.26726124 0.53452248 0.80178373]\n",
      "norma vector unitario: 1.0\n"
     ]
    }
   ],
   "source": [
    "# Normalización (vector unitario):\n",
    "\n",
    "vector_unitario = vector_3d / np.linalg.norm(vector_3d)\n",
    "\n",
    "# Imprimir el vector normalizado\n",
    "print(f'vector unitario: {vector_unitario}')\n",
    "print(f'norma vector unitario: {np.linalg.norm(vector_unitario)}')"
   ]
  },
  {
   "cell_type": "markdown",
   "id": "f6958c36-e290-4303-9e89-4cd776767c99",
   "metadata": {},
   "source": [
    "### Producto escalar y vectorial"
   ]
  },
  {
   "cell_type": "code",
   "execution_count": 41,
   "id": "37a59c67-4cfd-4fdb-83d2-e3ed985d860d",
   "metadata": {},
   "outputs": [
    {
     "name": "stdout",
     "output_type": "stream",
     "text": [
      "Producto escalar (punto): 32\n",
      "\n",
      "Producto vectorial (cruz): [-3  6 -3]\n",
      "\n",
      "ángulo entre v_A y v_B: 12.93 grados\n"
     ]
    }
   ],
   "source": [
    "# Definamos dos vectores 3D\n",
    "v_A = np.array([1, 2, 3])\n",
    "v_B = np.array([4, 5, 6])\n",
    "\n",
    "print(f'Producto escalar (punto): {np.dot(v_A, v_B)}')\n",
    "print(f'\\nProducto vectorial (cruz): {np.cross(v_A, v_B)}')\n",
    "\n",
    "phi_rad = np.arccos(np.dot(v_A, v_B)/(np.linalg.norm(v_A) * np.linalg.norm(v_B)))\n",
    "phi_grad = np.degrees(phi_rad)\n",
    "print(f'\\nángulo entre v_A y v_B: {phi_grad:.2f} grados' )"
   ]
  },
  {
   "cell_type": "markdown",
   "id": "5ae7d752-f3f5-4eb0-aeca-1f069404e228",
   "metadata": {},
   "source": [
    "## 4. Algebra lineal"
   ]
  },
  {
   "cell_type": "code",
   "execution_count": 6,
   "id": "778ce21f-de79-4c99-8c47-f110679ad9cd",
   "metadata": {},
   "outputs": [
    {
     "name": "stdout",
     "output_type": "stream",
     "text": [
      "Multiplicación de matrices: [[19 22]\n",
      " [43 50]]\n",
      "\n",
      "Invertida de la matriz A: [[-2.   1. ]\n",
      " [ 1.5 -0.5]]\n",
      "\n",
      "Determinante de la matriz A: -2.0000000000000004\n",
      "\n",
      "Traza de la matriz B: 13\n",
      "\n",
      "Transpuesta de la matriz B: [[5 7]\n",
      " [6 8]]\n"
     ]
    }
   ],
   "source": [
    "import numpy as np\n",
    "\n",
    "# Definamos dos matrices\n",
    "A = np.array([[1, 2], [3, 4]]) # matriz 2x2\n",
    "B = np.array([[5, 6], [7, 8]]) # matriz 2x2\n",
    "\n",
    "print(f'Multiplicación de matrices: {np.dot(A, B)}')\n",
    "print(f'\\nInvertida de la matriz A: {np.linalg.inv(A)}')\n",
    "print(f'\\nDeterminante de la matriz A: {np.linalg.det(A)}')\n",
    "print(f'\\nTraza de la matriz B: {np.trace(B)}')\n",
    "print(f'\\nTranspuesta de la matriz B: {np.transpose(B)}')"
   ]
  },
  {
   "cell_type": "markdown",
   "id": "358e4218-67b0-4db9-8347-b7fe4aa864e4",
   "metadata": {},
   "source": [
    "### Resolver sistemas de ecuaciones lineales (SEL): `np.linalg.solve()`"
   ]
  },
  {
   "cell_type": "code",
   "execution_count": null,
   "id": "2f178464-25f7-4a91-aca5-5e7666dddf67",
   "metadata": {},
   "outputs": [],
   "source": [
    "Resolver un sistema de ecuaciones lineales 2x2\n",
    "\n",
    "$$ 2 x +y = 4 $$\n",
    "$$ 3x - y = 5 $$"
   ]
  },
  {
   "cell_type": "code",
   "execution_count": 9,
   "id": "0f964dde-a7a8-45af-bff5-1dd44377581c",
   "metadata": {},
   "outputs": [
    {
     "name": "stdout",
     "output_type": "stream",
     "text": [
      "Solución: [1.8 0.4]\n",
      "\n",
      "Solución: x = 1.8, y = 0.4000000000000002\n"
     ]
    }
   ],
   "source": [
    "import numpy as np\n",
    "\n",
    "# Matriz 2x2 de los coeficientes del sistema\n",
    "A = np.array([[2,1],[3,-1]])\n",
    "# Vector de los términos independientes\n",
    "b = np.array([4,5])\n",
    "\n",
    "# Solución del SEL 2x2\n",
    "x = np.linalg.solve(A, b)  # x es una tupla\n",
    "\n",
    "print(f'Solución: {x}')\n",
    "print(f'\\nSolución: x = {x[0]}, y = {x[1]}')"
   ]
  },
  {
   "cell_type": "code",
   "execution_count": null,
   "id": "e5ba0a35-38d7-49ef-94be-8993932e00cb",
   "metadata": {},
   "outputs": [],
   "source": [
    "Resolver un sistema de ecuaciones lineales 3x3\n",
    "\n",
    "$$ x + 2y + 3z = 6 $$\n",
    "$$ 2x + y - z = -1 $$\n",
    "$$ x + y + z = 4 $$"
   ]
  },
  {
   "cell_type": "code",
   "execution_count": 10,
   "id": "8ad4a5e1-e6cd-45ea-99ed-01419ff8d106",
   "metadata": {},
   "outputs": [
    {
     "name": "stdout",
     "output_type": "stream",
     "text": [
      "Solución: [  9. -12.   7.]\n",
      "\n",
      "Solución: x = 8.999999999999995, y = -11.999999999999993, , z = 6.999999999999997\n"
     ]
    }
   ],
   "source": [
    "import numpy as np\n",
    "\n",
    "# Matriz 3x3 de los coeficientes del sistema\n",
    "A = np.array([[1,2,3],[2,1,-1],[1,1,1]])\n",
    "# Vector de los términos independientes\n",
    "b = np.array([6,-1,4])\n",
    "\n",
    "# Solución del SEL 3x3\n",
    "x = np.linalg.solve(A, b)  # x es una tupla\n",
    "\n",
    "print(f'Solución: {x}')\n",
    "print(f'\\nSolución: x = {x[0]}, y = {x[1]}, , z = {x[2]}')"
   ]
  },
  {
   "cell_type": "markdown",
   "id": "b76b9797-abc6-42e3-9244-2882dea5b8d7",
   "metadata": {},
   "source": [
    "## 5. Funciones Estadísticas"
   ]
  },
  {
   "cell_type": "code",
   "execution_count": null,
   "id": "0bc5f2a0-5490-4229-adcc-b340276d464a",
   "metadata": {},
   "outputs": [],
   "source": [
    "import numpy as np\n",
    "\n",
    "datos = np.array([10 ,25, 32, 41, 28])\n",
    "\n",
    "# Media\n",
    "print(f'Media: {np.mean(datos)}')\n",
    "\n",
    "# Mediana\n",
    "print(f'Mediana: {np.median(datos)}')\n",
    "\n",
    "# Desviación estándar\n",
    "print(f'Desviación estándar: {np.std(datos)}') # std = standard \n",
    "\n",
    "# Varianza\n",
    "print(f'Varianza: {np.var(datos)}')"
   ]
  },
  {
   "cell_type": "markdown",
   "id": "6d51a555-8181-403e-814d-22bf1d5d9896",
   "metadata": {},
   "source": [
    "#### Pruebas Estadísticas: chi.cuadrado, coeficientes de correlación, prueba t, etc"
   ]
  },
  {
   "cell_type": "markdown",
   "id": "031cb6bc-7142-48db-b440-a37b262a088d",
   "metadata": {},
   "source": [
    "#### Distribuciones de probabilidad: random.randn(), random.binomial(), random.poisson(), etc"
   ]
  },
  {
   "cell_type": "markdown",
   "id": "39fb0cdd-acba-437d-a5ec-bafa701d3599",
   "metadata": {},
   "source": [
    "## 6. Lectura y escritura de datos en NumPy\n",
    "\n",
    "En **NumPy** la carga (importar) y escritura (exportar) de datos se hace a través de diferentes, entre ellos CSV y TXT \n",
    "para trabajar grndes conjuntos de datos.\n",
    "\n",
    "- **CSV (Comma-Separated Values)** Un archivo de texto plano para representar datos en forma de tabla, las columnas \n",
    "se seperan por comas y las filas por saltos de línea.\n"
   ]
  },
  {
   "cell_type": "markdown",
   "id": "f1ad6796-d488-42be-a791-ba24ff6f039f",
   "metadata": {},
   "source": [
    "### 6.1 Cargar archivos desde archivos: uso de `np.loadtxt()`"
   ]
  },
  {
   "cell_type": "code",
   "execution_count": 2,
   "id": "120e2e1a-4ce6-406a-a84a-1e710b0d2fc8",
   "metadata": {},
   "outputs": [
    {
     "name": "stdout",
     "output_type": "stream",
     "text": [
      "[[1.1 2.2 3.3]\n",
      " [4.4 5.5 6.6]\n",
      " [7.7 8.8 9.9]]\n",
      "<class 'numpy.ndarray'>\n"
     ]
    }
   ],
   "source": [
    "import numpy as np\n",
    "\n",
    "# Cargar el archivo datos1.csv usando loadtxt()\n",
    "datos_1 = np.loadtxt('datos1.csv', delimiter=',')\n",
    "# delimiter=',' específica que los datos están separados por comas\n",
    "\n",
    "print(datos_1)\n",
    "print(type(datos_1))"
   ]
  },
  {
   "cell_type": "code",
   "execution_count": 3,
   "id": "af7d3c60-3e8a-4651-9942-1ac42bb565f7",
   "metadata": {},
   "outputs": [
    {
     "name": "stdout",
     "output_type": "stream",
     "text": [
      "[[1.1 2.2 3.3]\n",
      " [4.4 5.5 6.6]\n",
      " [7.7 8.8 9.9]]\n",
      "<class 'numpy.ndarray'>\n"
     ]
    }
   ],
   "source": [
    "# Cargar el archivo datos1.txt usando loadtxt()\n",
    "datos_2 = np.loadtxt('datos1.txt')\n",
    "\n",
    "print(datos_2)\n",
    "print(type(datos_2))"
   ]
  },
  {
   "cell_type": "markdown",
   "id": "251434e7-c20c-458c-92f9-57f6648ead8e",
   "metadata": {},
   "source": [
    "### 6.2 Cargar archivos desde archivos: uso de `np.genfromtxt()`\n",
    "\n",
    "Puede manejar casos con datos faltantes."
   ]
  },
  {
   "cell_type": "code",
   "execution_count": 6,
   "id": "1132a91b-107e-4006-b642-9a1e588c2163",
   "metadata": {},
   "outputs": [
    {
     "name": "stdout",
     "output_type": "stream",
     "text": [
      "[[1.1 2.2 3.3]\n",
      " [4.4 nan 6.6]\n",
      " [7.7 8.8 9.9]]\n"
     ]
    }
   ],
   "source": [
    "import numpy as np\n",
    "\n",
    "# Cargar el archivo .csv con valores faltantes\n",
    "datos_faltantes = np.genfromtxt('datos_faltantes.csv', delimiter=',', filling_values=np.nan)  # NaN : Not a Number\n",
    "\n",
    "print(datos_faltantes)"
   ]
  },
  {
   "cell_type": "markdown",
   "id": "067a62ef-5c08-4a7e-a335-ba447890d33b",
   "metadata": {},
   "source": [
    "### 6.3 Guardar datos en archivos csv y txt: `np.savetxt()`"
   ]
  },
  {
   "cell_type": "code",
   "execution_count": 8,
   "id": "89095b86-9b45-4952-9d0c-ca51aa0ecf57",
   "metadata": {},
   "outputs": [],
   "source": [
    "import numpy as np\n",
    "\n",
    "# Array de ejemlo\n",
    "datos_3 = np.array([[1,2,3],[4,5,6],[7,8,9]])  # 3x3\n",
    "\n",
    "# Guardar en un archivo csv\n",
    "np.savetxt('exportados.csv', datos_3, delimiter=',') # Separados por comas"
   ]
  },
  {
   "cell_type": "code",
   "execution_count": 10,
   "id": "fe640ac9-bb9a-4e2c-bc9a-2299378659fd",
   "metadata": {},
   "outputs": [
    {
     "name": "stdout",
     "output_type": "stream",
     "text": [
      "/home/nquintero/Introduccion a Python_Ciencia de datos\n",
      "['Introduccion a NumPy.ipynb', 'Introduccion a SciPy.ipynb', 'datos_faltantes.csv', 'Introduccion a Matplotlib.ipynb', 'datos1.txt', 'Clase 06-09-2024.ipynb', 'datosfit.csv', 'Ajuste de datos con NumPy.ipynb', 'exportados.csv', 'datos1.csv', 'output.csv', '.ipynb_checkpoints', 'data_float.csv']\n"
     ]
    }
   ],
   "source": [
    "import os\n",
    "print(os.getcwd())  # Muestra el directorio actual de trabajo\n",
    "print(os.listdir())"
   ]
  },
  {
   "cell_type": "markdown",
   "id": "21586e22-6dad-4b4f-81cd-89d6850feb10",
   "metadata": {},
   "source": [
    "## 8. Ajuste de datos en NumPy: uso de `np.polyfit()`\n",
    "\n",
    "Se usa para ajustar (fit) un polinomio a un conjunto de datos utilizando el método de **mínimos cuadrados**."
   ]
  },
  {
   "cell_type": "code",
   "execution_count": 17,
   "id": "0a4bc18f-7ae3-4f93-b3c1-ca15297bef3a",
   "metadata": {},
   "outputs": [
    {
     "name": "stdout",
     "output_type": "stream",
     "text": [
      "La pendiente es: 0.6200000000000001\n",
      "La intercepto es: 1.659999999999999\n",
      "0.6200000000000001\n",
      "1.659999999999999\n"
     ]
    },
    {
     "data": {
      "image/png": "[encoded data removed]",
      "text/plain": [
       "<Figure size 640x480 with 1 Axes>"
      ]
     },
     "metadata": {},
     "output_type": "display_data"
    }
   ],
   "source": [
    "import numpy as np\n",
    "import matplotlib.pyplot as plt\n",
    "\n",
    "# Paso 1: Cargar los datos desde el archivo csv\n",
    "data = np.loadtxt('datosfit.csv', delimiter=',', skiprows=1) # skiprows = 1 para omitir la fila de encabezado\n",
    "\n",
    "x = data[:, 0]  # Extrae la primera columna que contiene los valores de x\n",
    "y = data[:, 1]  # Extrae la segunda columna que contiene los valores de y\n",
    "\n",
    "# Paso 2: Ajustar una línea recta y = mx + b (polinomio de grado 1)\n",
    "coefficients = np.polyfit(x, y, 1)  # Polinomio de grado 1\n",
    "m, b = coefficients  \n",
    "# Coefficients es una tupla de dos elementos\n",
    "# [0] : pendiente m\n",
    "# [1]: intercepto b\n",
    "# m = coefficients[0] y b = coefficients[1]\n",
    "\n",
    "# Crear una función del polinomio ajustado\n",
    "polynomial = np.poly1d(coefficients)\n",
    "\n",
    "# Paso 3: Visualizar los datos \n",
    "\n",
    "plt.scatter(x,y, c='blue', s=40, marker='o', label='Datos originales')\n",
    "plt.plot(x, polynomial(x), color='red', label=f'Ajuste lineal: y = {m:.2f}x + {b:.2f}')\n",
    "plt.xlabel('x')\n",
    "plt.ylabel('y')\n",
    "plt.title('Ajuste lineal')\n",
    "plt.legend()\n",
    "plt.show\n",
    "\n",
    "print(f'La pendiente es: {m}')\n",
    "print(f'La intercepto es: {b}')\n",
    "print(coefficients[0])\n",
    "print(coefficients[1])"
   ]
  },
  {
   "cell_type": "markdown",
   "id": "81108fbd-417e-4cde-b8c2-cb3645da8897",
   "metadata": {},
   "source": [
    "### Ajuste cuadrático $y(x) = A x^2 + B x + C $"
   ]
  },
  {
   "cell_type": "code",
   "execution_count": 6,
   "id": "039d735c-3850-4267-97b8-5ef4b9fba8d5",
   "metadata": {},
   "outputs": [
    {
     "name": "stdout",
     "output_type": "stream",
     "text": [
      "Coeficientes del ajuste:\n",
      "\n",
      "A= 1.9774047035003812\n",
      "B= 2.9685982814932097\n",
      "C= 2.7025037813144537\n",
      "[1.9774047  2.96859828 2.70250378]\n"
     ]
    },
    {
     "data": {
      "image/png": "[encoded data removed]",
      "text/plain": [
       "<Figure size 640x480 with 1 Axes>"
      ]
     },
     "metadata": {},
     "output_type": "display_data"
    }
   ],
   "source": [
    "import numpy as np\n",
    "import matplotlib.pyplot as plt \n",
    "\n",
    "# Paso 1: Generar datos aleatorios con comportamiento cuadrático \n",
    "np.random.seed(0)\n",
    "x = np.random.uniform(-10,10, 100)  # Genero datos aleatorios en x\n",
    "y = 2*x**2 + 3*x + 1 \n",
    "y_random = y + np.random.normal(0, 5, size=len(x)) # media = 0, std = 5 \n",
    "\n",
    "# Paso 2: Ajustar los datos a una función polinomial de grado 2 (función cuadrática)\n",
    "coeficientes = np.polyfit(x, y_random, 2)  # grado 2\n",
    "# Alternativamente: A, B, C = coeficientes\n",
    "\n",
    "# Generar la curva ajustada\n",
    "x_fit = np.linspace(-10,10, 100)\n",
    "y_fit = np.polyval(coeficientes, x_fit)\n",
    "\n",
    "\"\"\"\n",
    "La función np.polyval() toma los coeficientes del ajuste y los valores de x, y devuelve los valores correspondiente a y en \n",
    "un polinomio de grado 2.\n",
    "\"\"\"\n",
    "\n",
    "# Paso 3: Visualizar los datos (aleatorios) y el ajuste\n",
    "# Grafica de los datos\n",
    "plt.scatter(x, y_random, c='red', s=45, marker='^', label='Datos')\n",
    "# Grafica del ajuste\n",
    "plt.plot(x_fit, y_fit, color='gray', linestyle='-', label='Ajuste cuadrático')\n",
    "plt.xlabel('X')\n",
    "plt.ylabel('Y')\n",
    "plt.title('Ajuste cuadrático')\n",
    "plt.legend()\n",
    "plt.grid(True)  # Cuadricula\n",
    "plt.show\n",
    "\n",
    "# Paso 4: Imprimir los coeficientes del ajuste\n",
    "print(f'Coeficientes del ajuste:\\n')\n",
    "print(f'A= {coeficientes[0]}')\n",
    "print(f'B= {coeficientes[1]}')\n",
    "print(f'C= {coeficientes[2]}')\n",
    "print(coeficientes)"
   ]
  },
  {
   "cell_type": "code",
   "execution_count": null,
   "id": "fd6d6140-1607-4d36-b920-21196325c640",
   "metadata": {},
   "outputs": [],
   "source": []
  }
 ],
 "metadata": {
  "kernelspec": {
   "display_name": "Python 3 (ipykernel)",
   "language": "python",
   "name": "python3"
  },
  "language_info": {
   "codemirror_mode": {
    "name": "ipython",
    "version": 3
   },
   "file_extension": ".py",
   "mimetype": "text/x-python",
   "name": "python",
   "nbconvert_exporter": "python",
   "pygments_lexer": "ipython3",
   "version": "3.10.12"
  }
 },
 "nbformat": 4,
 "nbformat_minor": 5
}
