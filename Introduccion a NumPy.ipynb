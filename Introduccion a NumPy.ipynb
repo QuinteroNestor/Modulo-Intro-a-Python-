{
 "cells": [
  {
   "cell_type": "markdown",
   "id": "8b62c911-719f-4067-a24e-f4497a931bac",
   "metadata": {},
   "source": [
    "# <center>  <font color='blue'> Introducción a NumPy </font> </center>\n",
    "\n",
    "<center>\n",
    "<img src=\"https://user-images.githubusercontent.com/50221806/86498201-a8bd8680-bd39-11ea-9d08-66b610a8dc01.png\" width=\"25%\">\n",
    "</center>\n",
    "\n",
    "#### <center>  Sitio Web Oficial NumPy: [https://numpy.org/](https://numpy.org/) </center>"
   ]
  },
  {
   "cell_type": "markdown",
   "id": "b4725917-ceb2-450c-96b8-f9e435183b6e",
   "metadata": {},
   "source": [
    "## <font color='red'> ¿Qué es NumPy? </font>\n",
    "---\n",
    "\n",
    "**NumPy** (abreviatura de \"*Numerical Python*\") es una biblioteca fundamental para la computación científica en *Python*.\n",
    "    \n",
    "**NumPy** es una biblioteca científica cálculos numéricos \n",
    "y operaciones con matrices y arreglos multidimensionales. Proporciona un conjunto de herramientas y funciones \n",
    "eficientes para trabajar con datos numéricos, lo que la hace muy útil en áreas como la ciencia de datos, \n",
    "la ingeniería, las matemáticas y la física, entre otros campos.\n",
    "\n",
    "### Características principales\n",
    "\n",
    "- **Creación de arrays:** Los arrays NumPy son la base para el manejo de datos numéricos en Python. \n",
    "Los arrays pueden ser unidimensionales (vectores), bidimensionales (matrices) o de dimensiones superiores.\n",
    "- **Operaciones con arrays:** NumPy proporciona una amplia gama de operaciones para trabajar con arrays, incluyendo operaciones aritméticas, comparaciones, operaciones lógicas y mucho más.\n",
    "- **Funciones matemáticas:** NumPy incluye una amplia gama de funciones matemáticas, como funciones trigonométricas, funciones estadísticas y funciones especiales.\n",
    "- **Álgebra lineal:** NumPy proporciona potentes herramientas para el álgebra lineal, incluyendo operaciones con matrices, resolución de sistemas de ecuaciones, cálculo de autovalores y autovectores, y mucho más.\n",
    "- **Generación de números aleatorios:** NumPy ofrece funciones para generar números aleatorios de diferentes distribuciones de probabilidad, como uniforme, normal, binomial y muchas más.\n",
    "- **Visualización de datos:** NumPy puede ser utilizado para crear gráficos y diagramas para visualizar datos científicos.\n",
    "- **Módulos adicionales:** NumPy cuenta con una serie de módulos adicionales que proporcionan herramientas específicas para diferentes áreas, como scipy para el análisis estadístico y matplotlib para la creación de gráficos.\n",
    "\n",
    "### Aplicaciones:\n",
    "\n",
    "**NumPy** se utiliza en una amplia variedad de aplicaciones, incluyendo:\n",
    "\n",
    "- **Ciencia de datos**: NumPy es una herramienta esencial para el análisis de datos, el aprendizaje automático y la inteligencia artificial.\n",
    "- **Ingeniería:** NumPy se utiliza en ingeniería para realizar simulaciones numéricas, resolver problemas de optimización y analizar datos experimentales.\n",
    "- **Matemáticas:** NumPy se puede utilizar para resolver ecuaciones matemáticas, calcular integrales y derivadas, y visualizar gráficos.\n",
    "- **Finanzas:** NumPy se utiliza en finanzas para modelar mercados financieros, analizar riesgos y desarrollar estrategias de inversión.\n",
    "- **Ciencia:** NumPy se utiliza en ciencias como la física, la química, la biología y la astronomía para analizar datos, realizar simulaciones y desarrollar modelos.\n",
    "    \n",
    "### ¿Cómo importar NumPy?\n",
    "    \n",
    "Para importar **NumPy** en *Python*, simplemente utilizamos la siguiente sintaxis:"
   ]
  },
  {
   "cell_type": "code",
   "execution_count": 19,
   "id": "a1bda54d-422e-4b00-8cb8-48477b9f11bb",
   "metadata": {},
   "outputs": [],
   "source": [
    "import numpy as np"
   ]
  },
  {
   "cell_type": "markdown",
   "id": "7f559508-3cc9-4a07-865e-f5e1b2343799",
   "metadata": {},
   "source": [
    "- `np` es una convención ampliamente aceptada y utilizada en la comunidad de Python para referirse a **Numpy**.\n",
    "- Una vez que hemos importado **NumPy** de esta manera, podemos acceder a todas sus funciones y módulos."
   ]
  },
  {
   "cell_type": "markdown",
   "id": "4d44b1c8-61d1-413a-9440-84f00b5b65e6",
   "metadata": {},
   "source": [
    "## <font color='purple'> 1. Creación de arrays (arreglos) en NumPy </font>\n",
    "\n",
    "Los arrays en **NumPy** son la base para el manejo de datos numéricos en *Python*. \n",
    "Son estructuras de datos multidimensionales que almacenan elementos del mismo tipo. \n",
    "A diferencia de las listas de Python, que pueden almacenar elementos de diferentes tipos, \n",
    "los arrays **NumPy** solo pueden almacenar elementos del mismo tipo. Esto hace que los arrays **NumPy** sean mucho más eficientes \n",
    "para el almacenamiento y procesamiento de datos numéricos.\n",
    "\n",
    "La siguiente tabla proporciona una comparación clara y concisa entre las listas de Python y los arreglos de NumPy, destacando sus diferencias y ejemplos de uso.\n",
    "\n",
    "\n",
    "\n",
    "| Característica                  | Listas de Python                     | Arreglos de NumPy                         |\n",
    "|---------------------------------|--------------------------------------|-------------------------------------------|\n",
    "| **Tipos de Datos**              | Heterogéneas (diferentes tipos)      | Homogéneos (mismo tipo)                   |\n",
    "| **Rendimiento**                 | Menos eficiente para operaciones     | Más rápido y eficiente en operaciones     |\n",
    "|                                 | numéricas y matemáticas intensivas   | numéricas y matemáticas intensivas        |\n",
    "| **Funcionalidad y Operaciones** | General y flexible                   | Optimizada para operaciones matemáticas   |\n",
    "|                                 |                                      | y científicas                             |\n",
    "| **Dimensionalidad**             | Principalmente unidimensionales,     | Naturalmente multidimensionales           |\n",
    "|                                 | pueden anidar listas                 |                                           |\n",
    "| **Indexación y Segmentación**   | Indexación estándar y segmentación   | Indexación avanzada, incluyendo booleana  |\n",
    "|                                 | con slices                           | y segmentación multidimensional           |\n",
    "| **Operaciones Básicas**         | No vectorizadas                      | Vectorizadas                              |\n",
    "| **Multidimensionalidad**        | Estructuras anidadas para matrices   | Soporta matrices y tensores directamente  |\n",
    "| **Funcionalidad Científica**    | Necesita bibliotecas adicionales     | Funciones científicas y matemáticas       |\n",
    "|                                 |                                      | optimizadas integradas                    |\n",
    "| **Ejemplo: Suma de Elementos**  | `[a + b for a, b in zip(lista_a, lista_b)]` | `arreglo_a + arreglo_b`                  |\n",
    "| **Ejemplo: Operaciones**        | `[x * 2 for x in lista]`             | `arreglo * 2`                             |\n",
    "| **Ejemplo: Multidimensionalidad** | `matriz[1][1]`                      | `matriz[1, 1]`                            |\n",
    "| **Ejemplo: Funcionalidad Científica** | `import statistics` <br> `statistics.mean(datos)` | `np.mean(datos)`                   |\n",
    "\n"
   ]
  },
  {
   "cell_type": "markdown",
   "id": "1f91d03f-2485-4a3d-bb6d-c282778421c8",
   "metadata": {},
   "source": [
    "### <font color='purple'> 1.1 A partir de listas  </font> \n",
    "La forma más sencilla de crear un array NumPy es a partir de una lista de Python. \n",
    "La función `np.array()` convierte una lista en un array NumPy."
   ]
  },
  {
   "cell_type": "code",
   "execution_count": null,
   "id": "829d1bf0-930c-4e69-8d9f-ab282ab51db7",
   "metadata": {},
   "outputs": [],
   "source": [
    "# Crear un array a partir de una lista de enteros\n",
    "lista_enteros = [1, 2, 3, 4, 5]\n",
    "array_enteros = np.array(lista_enteros)\n",
    "\n",
    "# Crear un array a partir de una lista de números reales\n",
    "lista_reales = [1.2, 3.4, 5.6, 7.8, 9.0, 10.2]\n",
    "array_reales = np.array(lista_reales)\n",
    "\n",
    "print(array_enteros)\n",
    "array_enteros"
   ]
  },
  {
   "cell_type": "markdown",
   "id": "17dc9445-d8cd-4173-9da1-af05bf7b6654",
   "metadata": {},
   "source": [
    "### <font color='purple'> 1.2 Con valores literales:  </font>\n",
    "También se pueden crear arrays NumPy directamente con valores literales."
   ]
  },
  {
   "cell_type": "code",
   "execution_count": null,
   "id": "f358e957-a715-4ee6-8560-39231f59caf3",
   "metadata": {},
   "outputs": [],
   "source": [
    "# Crear un array unidimensional de números enteros\n",
    "array_enteros = np.array([1, 2, 3, 4, 5])\n",
    "\n",
    "# Crear un array bidimensional de números reales\n",
    "array_reales = np.array([1.2, 3.4, 5.6])"
   ]
  },
  {
   "cell_type": "markdown",
   "id": "b451534b-cdc2-4426-9993-5a07fa20cb8f",
   "metadata": {},
   "source": [
    "### <font color='purple'> 1.3 Con funciones de NumPy  </font> \n",
    "\n",
    "NumPy proporciona diversas funciones para crear arrays con valores específicos, como `np.zeros()`, `np.ones()`, `np.linspace()`, `np.arange()`."
   ]
  },
  {
   "cell_type": "code",
   "execution_count": 36,
   "id": "a9ee19a6-0021-4d54-8ef8-855fe745e39b",
   "metadata": {},
   "outputs": [],
   "source": [
    "# Crear un array unidimensional de ceros\n",
    "ceros = np.zeros(10)\n",
    "\n",
    "# Crear un array unidimensional de unos\n",
    "unos = np.ones(10)\n",
    "\n",
    "# Crear un array unidimensional de números espaciados uniformemente\n",
    "#np.linspace(inicio, fin, num_puntos)\n",
    "array_espaciado = np.linspace(0, 10, 50) # 50 valores entre 0 y 10\n",
    "\n",
    "# Crear un array de números enteros de 0 a 10 (inclusive)\n",
    "# np.arange(inicio, fin, paso)\n",
    "enteros_1 = np.arange(10) # Por defecto inicio = 0 y paso = 1\n",
    "enteros_2 = np.arange(5,20,1)"
   ]
  },
  {
   "cell_type": "code",
   "execution_count": 37,
   "id": "8485003a-9c36-43fc-9a81-554d629c2f9a",
   "metadata": {},
   "outputs": [
    {
     "name": "stdout",
     "output_type": "stream",
     "text": [
      "[0 1 2 3 4 5 6 7 8 9]\n",
      "[ 5  6  7  8  9 10 11 12 13 14 15 16 17 18 19]\n"
     ]
    }
   ],
   "source": [
    "print(enteros_1)\n",
    "print(enteros_2)"
   ]
  },
  {
   "cell_type": "markdown",
   "id": "ddb6c570-c6e8-4a9e-b00b-9e9d0807e7af",
   "metadata": {},
   "source": [
    "### <font color='purple'> 1.4 Con valores aleatorios  </font>\n",
    "NumPy ofrece diversas funciones para generar arrays con números aleatorios de diferentes distribuciones de probabilidad.\n",
    "Las distribuciones de probabilidad más comunes son:"
   ]
  },
  {
   "cell_type": "markdown",
   "id": "ff253f5f-70fc-422c-afc5-2446a03bdcab",
   "metadata": {},
   "source": [
    "##### La función `np.random.randint(low, high, size)` en NumPy se utiliza para generar números aleatorios enteros dentro de un intervalo especificado. "
   ]
  },
  {
   "cell_type": "code",
   "execution_count": null,
   "id": "57c0c4b5-4768-473f-bfa0-90656331abb0",
   "metadata": {},
   "outputs": [],
   "source": [
    "# Generar un número aleatorio entero entre 0 y 9 (inclusive)\n",
    "aleatorio_1 = np.random.randint(10)\n",
    "\n",
    "# Generar un array de 5 números aleatorios enteros entre 5 y 15 (inclusive)\n",
    "aleatorio_2 = np.random.randint(5, 16, size=5)"
   ]
  },
  {
   "cell_type": "markdown",
   "id": "adb1f454-2fc9-40b7-b330-f1ee0aa0615a",
   "metadata": {},
   "source": [
    "##### La distribución uniforme genera números aleatorios distribuidos uniformemente dentro de un intervalo especificado. Se utiliza con la función `np.random.rand()`."
   ]
  },
  {
   "cell_type": "code",
   "execution_count": null,
   "id": "010d782f-1383-403c-aa43-20d0009f4866",
   "metadata": {},
   "outputs": [],
   "source": [
    "# Generar un array unidimensional de 10 números aleatorios uniformes entre 0 y 1\n",
    "array_uniforme = np.random.rand(10)"
   ]
  },
  {
   "cell_type": "markdown",
   "id": "9e89ccb2-03cd-45d6-9568-f693192a28dd",
   "metadata": {},
   "source": [
    "##### La distribución normal genera números aleatorios con una forma de campana, con una media y una desviación estándar especificadas. Se utiliza con la función `np.random.randn()`."
   ]
  },
  {
   "cell_type": "code",
   "execution_count": 24,
   "id": "9c45fd08-2c6d-47fb-9110-45918e13e738",
   "metadata": {},
   "outputs": [],
   "source": [
    "# Generar un array unidimensional de 10 números aleatorios con distribución normal, con media 0 y desviación estándar 1\n",
    "array_normal = np.random.randn(10)"
   ]
  },
  {
   "cell_type": "markdown",
   "id": "a642147b-241f-4079-a1e7-1baa776da3f5",
   "metadata": {},
   "source": [
    "### <font color='purple'> 1.5 Tipos de arrays </font>\n",
    "\n",
    "**Arrays unidimensionales (vectores)**: Los arrays unidimensionales, también conocidos como vectores, son arrays que solo tienen una dimensión. \n",
    "Se representan como una fila de elementos entre corchetes."
   ]
  },
  {
   "cell_type": "code",
   "execution_count": null,
   "id": "dded0af9-57e0-47a0-8f89-448b34c4a53a",
   "metadata": {},
   "outputs": [],
   "source": [
    "# Crear un array unidimensional de números enteros\n",
    "vector_1 = np.array([1, 2, 3, 4, 5])"
   ]
  },
  {
   "cell_type": "markdown",
   "id": "bc1b23bc-0cee-44bf-b04e-bc138147d7fd",
   "metadata": {},
   "source": [
    "**Arrays de dimensiones superiores:** Los arrays de dimensiones superiores son arrays que tienen tres o más dimensiones. Se representan como una serie de corchetes anidados, \n",
    "con el número de corchetes igual al número de dimensiones del array."
   ]
  },
  {
   "cell_type": "code",
   "execution_count": null,
   "id": "b271a9c0-52be-4c68-8187-f624ba0218fc",
   "metadata": {},
   "outputs": [],
   "source": [
    "# Crear un array bidimensional de números reales\n",
    "array_reales = np.array([[1.2, 3.4, 5.6], [7.8, 9.0, 10.2]])\n",
    "\n",
    "# Crear una matriz de ceros\n",
    "M_ceros = np.zeros((2, 2)) # Matriz 2x2 de ceros\n",
    "\n",
    "# Crear una matriz de unos\n",
    "M_ones = np.ones((2, 2)) # Matriz 2x2 de unos\n",
    "\n",
    "# Crear un arreglo con valores aleatorios\n",
    "e = np.random.rand(3, 3)\n"
   ]
  },
  {
   "cell_type": "markdown",
   "id": "bbcacdab-a695-4ffc-8a53-4b9afcc92d79",
   "metadata": {},
   "source": [
    "### <font color='purple'> 1.6 Propiedades de los arrays </font>"
   ]
  },
  {
   "cell_type": "markdown",
   "id": "562c274b-d891-42db-b40e-1e0423989809",
   "metadata": {},
   "source": [
    "#### Tipo de dato: \n",
    "Todos los elementos de un array NumPy deben ser del mismo tipo de dato. \n",
    "El tipo de dato del array se puede obtener con la propiedad `dtype`."
   ]
  },
  {
   "cell_type": "code",
   "execution_count": 41,
   "id": "3f538bb7-98b4-453f-aef5-b15b21385f98",
   "metadata": {},
   "outputs": [
    {
     "name": "stdout",
     "output_type": "stream",
     "text": [
      "int64\n",
      "float64\n"
     ]
    }
   ],
   "source": [
    "# Obtener el tipo de dato del array\n",
    "\n",
    "print(array_enteros.dtype)\n",
    "print(array_reales.dtype)"
   ]
  },
  {
   "cell_type": "markdown",
   "id": "f91e7504-3b1f-4ef8-b185-9653081da2d3",
   "metadata": {},
   "source": [
    "#### Dimensión (`ndim`):\n",
    "\n",
    "La dimensión de un array indica el número total de dimensiones que tiene. Se puede obtener la dimensión \n",
    "del array utilizando la propiedad `ndim`."
   ]
  },
  {
   "cell_type": "code",
   "execution_count": 49,
   "id": "7959d095-39d9-4ff7-a732-5ca1472a6118",
   "metadata": {},
   "outputs": [
    {
     "name": "stdout",
     "output_type": "stream",
     "text": [
      "2\n"
     ]
    }
   ],
   "source": [
    "print(array_reales.ndim)"
   ]
  },
  {
   "cell_type": "markdown",
   "id": "753e828e-af69-4ce7-bc32-50eb82a71ff3",
   "metadata": {},
   "source": [
    "#### Forma: \n",
    "La forma de un array NumPy indica el número de dimensiones del array y el número de elementos en cada dimensión. \n",
    "La forma del array se puede obtener con la propiedad `shape`."
   ]
  },
  {
   "cell_type": "code",
   "execution_count": 42,
   "id": "d7a97d77-0c67-4274-b86e-4c3e5c748baa",
   "metadata": {},
   "outputs": [
    {
     "name": "stdout",
     "output_type": "stream",
     "text": [
      "(2, 3)\n"
     ]
    }
   ],
   "source": [
    "# Obtener la forma del array\n",
    "print(array_reales.shape)\n"
   ]
  },
  {
   "cell_type": "markdown",
   "id": "755363b5-2306-464a-ba1c-41a11c04d883",
   "metadata": {},
   "source": [
    "#### Tamaño: \n",
    "El tamaño de un array NumPy indica el número total de elementos en el array. \n",
    "El tamaño del array se puede obtener con la función `len()` o con la propiedad `size`."
   ]
  },
  {
   "cell_type": "code",
   "execution_count": 43,
   "id": "da8f7e37-4ac5-49d9-957e-092c60a47b5b",
   "metadata": {},
   "outputs": [
    {
     "name": "stdout",
     "output_type": "stream",
     "text": [
      "10\n",
      "10\n"
     ]
    }
   ],
   "source": [
    "# Obtener el tamaño del array\n",
    "print(len(array_enteros))\n",
    "\n",
    "# Obtener el tamaño del array (alternativo)\n",
    "print(array_enteros.size)\n"
   ]
  },
  {
   "cell_type": "markdown",
   "id": "13ee1e32-3a98-462a-acfa-c1f613434594",
   "metadata": {},
   "source": [
    "## <font color='purple'> 2. Operaciones básicas con arrays en NumPy </font>\n",
    "\n",
    "**NumPy** proporciona una gran variedad de operaciones matemáticas y lógicas que se pueden aplicar \n",
    "directamente a arrays enteros. Estas operaciones permiten realizar cálculos eficientes y complejos sobre conjuntos de datos numéricos."
   ]
  },
  {
   "cell_type": "markdown",
   "id": "3b8215c9-6be2-4b0f-87ab-3e3781ee8137",
   "metadata": {},
   "source": [
    "- **Suma:** array1 + array2\n",
    "- **Resta:** array1 - array2\n",
    "- **Multiplicación:** array1 * array2\n",
    "- **División:** array1 / array2\n",
    "- **Módulo:** array1 % array2\n",
    "- **Potenciación:** array1 ** array2\n",
    "- **Raíz cuadrada:** np.sqrt(array)\n",
    "- **Logaritmo natural:** np.log(array)\n",
    "- **Logaritmo en base 10:** np.log10(array)\n",
    "- **Exponencial:** np.exp(array)\n",
    "- **Funciones trigonométricas:** np.sin(array), np.cos(array), np.tan(array), "
   ]
  },
  {
   "cell_type": "code",
   "execution_count": 51,
   "id": "bda81311-dc7e-4f60-a5fe-b42e6f90f4c7",
   "metadata": {},
   "outputs": [
    {
     "name": "stdout",
     "output_type": "stream",
     "text": [
      "Suma: [5 7 7]\n",
      "Suma: [5 7 7]\n",
      "Resta: [-3 -3 -1]\n",
      "Multiplicación: [ 4 10 12]\n",
      "División: [0.25 0.4  0.75]\n"
     ]
    }
   ],
   "source": [
    "import numpy as np\n",
    "\n",
    "a = np.array([1, 2, 3])\n",
    "b = np.array([4, 5, 4])\n",
    "# a y b deben tener el mismo tamaño\n",
    "# Suma\n",
    "suma = np.add(a, b)\n",
    "\n",
    "# Resta\n",
    "resta = np.subtract(a, b)\n",
    "\n",
    "# Multiplicación\n",
    "multiplicacion = np.multiply(a, b)\n",
    "\n",
    "# División\n",
    "division = np.divide(a, b)\n",
    "\n",
    "print(\"Suma:\", suma)\n",
    "print(\"Suma:\", a+b)\n",
    "print(\"Resta:\", resta)\n",
    "print(\"Multiplicación:\", multiplicacion)\n",
    "print(\"División:\", division)\n"
   ]
  },
  {
   "cell_type": "code",
   "execution_count": 47,
   "id": "40e77363-1c24-4de4-967a-687589ed89ed",
   "metadata": {},
   "outputs": [
    {
     "name": "stdout",
     "output_type": "stream",
     "text": [
      "[False False False  True  True]\n"
     ]
    }
   ],
   "source": [
    "array_enteros = np.array([1, 2, 3, 4, 5])\n",
    "\n",
    "# Suma de un escalar a todos los elementos del array\n",
    "nuevo_array = array_enteros + 10\n",
    "\n",
    "# Multiplicación de un escalar por todos los elementos del array\n",
    "array_cuadrado = array_enteros ** 2\n",
    "\n",
    "# Comparación con un escalar\n",
    "array_logico = array_enteros > 3\n",
    "print(array_logico)"
   ]
  },
  {
   "cell_type": "markdown",
   "id": "646ed547-ac7c-4ee3-b739-ef30eb706b3a",
   "metadata": {},
   "source": [
    "## <font color='purple'> 3. Operaciones con vectores </font>"
   ]
  },
  {
   "cell_type": "markdown",
   "id": "fbd11114-d9f6-4c12-8336-a8d6d0ae8566",
   "metadata": {},
   "source": [
    "**NumPy**, a pesar de no estar diseñado específicamente para el manejo de vectores, permite realizar cálculos y \n",
    "operaciones con `arrays` que representan vectores en 2D y 3D. "
   ]
  },
  {
   "cell_type": "code",
   "execution_count": 10,
   "id": "5737c19b-4301-49f7-9b1f-88ed3350684b",
   "metadata": {},
   "outputs": [],
   "source": [
    "import numpy as np\n",
    "\n",
    "# Definamos los vectores\n",
    "\n",
    "# Vector 2D representado como un array\n",
    "vector_2D = np.array([3, 4])\n",
    "\n",
    "# Vector 3D representado como un array\n",
    "vector_3D = np.array([1, 2, 3])"
   ]
  },
  {
   "cell_type": "markdown",
   "id": "086f8046-058b-47c2-8741-e32ecd4db969",
   "metadata": {},
   "source": [
    "#### Magnitud: \n",
    "La magnitud de un vector, también conocida como norma euclidiana, representa la longitud del vector en el espacio. \n",
    "Se puede calcular utilizando la función `np.linalg.norm()`."
   ]
  },
  {
   "cell_type": "code",
   "execution_count": 11,
   "id": "a0a928f9-1b68-49b3-a84b-d78eb7c5e3a0",
   "metadata": {},
   "outputs": [
    {
     "name": "stdout",
     "output_type": "stream",
     "text": [
      "Magnitud vector_2D: 5.0\n",
      "Magnitud vector_3D: 3.7416573867739413\n"
     ]
    }
   ],
   "source": [
    "# Imprimir la magnitud\n",
    "print(f\"Magnitud vector_2D: {np.linalg.norm(vector_2D)}\")\n",
    "print(f\"Magnitud vector_3D: {np.linalg.norm(vector_3D)}\")"
   ]
  },
  {
   "cell_type": "markdown",
   "id": "f3af6741-0344-401e-b94b-f1fc49c7eefc",
   "metadata": {},
   "source": [
    "#### Dirección:\n",
    "\n",
    "La dirección de un vector 2D se define como el ángulo que forma con una referencia, como el eje x positivo. \n",
    "Se puede calcular utilizando la función `np.arctan2()`.\n",
    "\n",
    "La dirección de un vector 3D se define por dos ángulos: el ángulo acimutal ($\\phi$) y el ángulo polar (de elevación) ($\\theta$). \n",
    "Se pueden calcular utilizando las funciones `np.arctan2()` y `np.arccos()`, respectivamente.\n"
   ]
  },
  {
   "cell_type": "code",
   "execution_count": 14,
   "id": "409550b9-06b0-48da-a68b-f4ef8d269ad1",
   "metadata": {},
   "outputs": [
    {
     "name": "stdout",
     "output_type": "stream",
     "text": [
      "Dirección (grados): 53.13010235415598\n"
     ]
    }
   ],
   "source": [
    "# Cálculo del ángulo en radianes\n",
    "angulo_radianes = np.arctan2(vector_2D[1], vector_2D[0])\n",
    "\n",
    "# Conversión a grados\n",
    "angulo_grados = np.degrees(angulo_radianes)\n",
    "\n",
    "# Imprimir el ángulo en grados\n",
    "print(\"Dirección (grados):\", angulo_grados)\n"
   ]
  },
  {
   "cell_type": "code",
   "execution_count": 16,
   "id": "1b90902e-243b-48bb-b9de-1b64c8d8f619",
   "metadata": {},
   "outputs": [
    {
     "name": "stdout",
     "output_type": "stream",
     "text": [
      "Ángulo acimutal (grados): 63.43494882292201\n",
      "Ángulo de elevación (grados): 36.69922520048988\n"
     ]
    }
   ],
   "source": [
    "# Cálculo del ángulo acimutal (en radianes)\n",
    "phi = np.arctan2(vector_3D[1], vector_3D[0])\n",
    "\n",
    "# Cálculo del ángulo de elevación (en radianes)\n",
    "theta = np.arccos(vector_3D[2] / np.linalg.norm(vector_3D))\n",
    "\n",
    "# Conversión a grados\n",
    "phi_grados = np.degrees(phi)\n",
    "theta_grados = np.degrees(theta)\n",
    "\n",
    "# Imprimir los ángulos en grados\n",
    "print(\"Ángulo acimutal (grados):\", phi_grados)\n",
    "print(\"Ángulo de elevación (grados):\", theta_grados)\n"
   ]
  },
  {
   "cell_type": "markdown",
   "id": "f77fb5c1-f4b3-406a-85d2-a5ae31494e91",
   "metadata": {},
   "source": [
    "#### Normalización (vector unitario):\n",
    "\n",
    "La normalización de un vector 3D consiste en escalarlo para que su magnitud sea igual a 1. Se realiza dividiendo \n",
    "el vector por su magnitud."
   ]
  },
  {
   "cell_type": "code",
   "execution_count": 19,
   "id": "c30f01fe-819a-452b-a5aa-869e03d17440",
   "metadata": {},
   "outputs": [
    {
     "name": "stdout",
     "output_type": "stream",
     "text": [
      "Vector unitario: [0.26726124 0.53452248 0.80178373]\n",
      "1.0\n"
     ]
    }
   ],
   "source": [
    "# Normalización del vector (Vector unitario)\n",
    "vector_unitario = vector_3D / np.linalg.norm(vector_3D)\n",
    "\n",
    "# Imprimir el vector normalizado\n",
    "print(\"Vector unitario:\", vector_unitario)\n",
    "print(np.linalg.norm(vector_unitario))"
   ]
  },
  {
   "cell_type": "markdown",
   "id": "3aacafb7-5a07-4ad2-8148-bae3ecbb3547",
   "metadata": {},
   "source": [
    "#### Distancia entre dos puntos:\n",
    "\n",
    "La distancia entre dos puntos en el espacio 3D se calcula utilizando la función `np.linalg.norm()`."
   ]
  },
  {
   "cell_type": "code",
   "execution_count": 24,
   "id": "384cae11-f331-491a-b7ca-3226cb893ff2",
   "metadata": {},
   "outputs": [
    {
     "name": "stdout",
     "output_type": "stream",
     "text": [
      "5.196152422706632\n"
     ]
    }
   ],
   "source": [
    "import numpy as np\n",
    "\n",
    "# Punto 1 representado como un array\n",
    "punto1_3d = np.array([1, 2, 3])\n",
    "\n",
    "# Punto 2 representado como un array\n",
    "punto2_3d = np.array([4, 5, 6])\n",
    "\n",
    "print(np.linalg.norm(punto2_3d - punto1_3d))"
   ]
  },
  {
   "cell_type": "markdown",
   "id": "2b895670-c005-481f-b92a-75107da9a3c4",
   "metadata": {},
   "source": [
    "#### Producto escalar y vectorial:\n",
    "\n",
    "El producto escalar y vectorial se calculas utilizando la funciones `np.dot()` and `np.cross()`, respectivamente."
   ]
  },
  {
   "cell_type": "code",
   "execution_count": 22,
   "id": "a08226d0-a27e-46a9-8ee0-63e06c33eed8",
   "metadata": {},
   "outputs": [
    {
     "name": "stdout",
     "output_type": "stream",
     "text": [
      "Producto escalar: 32\n",
      "Producto vectorial: [-3  6 -3]\n"
     ]
    }
   ],
   "source": [
    "# Vector 3D 1 representado como un array\n",
    "vector_1 = np.array([1, 2, 3])\n",
    "\n",
    "# Vector 3D 2 representado como un array\n",
    "vector_2 = np.array([4, 5, 6])\n",
    "\n",
    "# Imprimir el producto escalar y vectorial\n",
    "print(f'Producto escalar: {np.dot(vector_1, vector_2)}')\n",
    "print(f'Producto vectorial: {np.cross(vector_1, vector_2)}')"
   ]
  },
  {
   "cell_type": "markdown",
   "id": "46845f75-e19e-4dc7-aa62-8f22e90dd07d",
   "metadata": {},
   "source": [
    "## <font color='purple'>  4. Algebra lineal </font>"
   ]
  },
  {
   "cell_type": "code",
   "execution_count": 24,
   "id": "912f88da-2856-49c0-aa0b-45f251e86543",
   "metadata": {},
   "outputs": [
    {
     "name": "stdout",
     "output_type": "stream",
     "text": [
      "Multiplicación de matrices:\n",
      " [[19 22]\n",
      " [43 50]]\n",
      "Inversión de matriz:\n",
      " [[-2.   1. ]\n",
      " [ 1.5 -0.5]]\n",
      "Determinante: -2.0000000000000004\n",
      "Traza: 5\n",
      "Transpuesta [[1 3]\n",
      " [2 4]]\n"
     ]
    }
   ],
   "source": [
    "import numpy as np\n",
    "\n",
    "A = np.array([[1, 2], [3, 4]])\n",
    "B = np.array([[5, 6], [7, 8]])\n",
    "\n",
    "# Multiplicación de matrices\n",
    "multiplicacion_matrices = np.dot(A, B)\n",
    "\n",
    "# Inversión de matriz\n",
    "inversion = np.linalg.inv(A)\n",
    "\n",
    "# Determinante\n",
    "determinante = np.linalg.det(A)\n",
    "\n",
    "# Cálculo de la traza\n",
    "traza = np.trace(A)\n",
    "\n",
    "print(\"Multiplicación de matrices:\\n\", multiplicacion_matrices)\n",
    "print(\"Inversión de matriz:\\n\", inversion)\n",
    "print(\"Determinante:\", determinante)\n",
    "print(\"Traza:\", traza)\n",
    "print(\"Transpuesta\", np.transpose(B))"
   ]
  },
  {
   "cell_type": "markdown",
   "id": "50d50498-745a-424d-8eac-f5cb63b496dc",
   "metadata": {},
   "source": [
    "### Sistemas de ecuaciones lineales (SEL)\n",
    "\n",
    "La función `np.linalg.solve()` en NumPy se utiliza para resolver sistemas de ecuaciones lineales (SEL) representados por \n",
    "matrices. Es una herramienta fundamental para el álgebra lineal y tiene diversas aplicaciones en áreas como la física, \n",
    "la ingeniería, la optimización y el análisis de datos.\n",
    "\n",
    "```python\n",
    "# Sintaxis\n",
    "np.linalg.solve(A, b)\n",
    "```\n",
    "\n",
    "**Explicación de los parámetros:**\n",
    "\n",
    "**A:** Una matriz cuadrada que representa los coeficientes del sistema de ecuaciones lineales. La matriz debe ser de dimensiones \n",
    "$(n \\times n)$, donde n es el número de variables y ecuaciones.\n",
    "    \n",
    "**b:** Un vector que representa los términos independientes del sistema de ecuaciones lineales. \n",
    "  El vector debe tener longitud $n$, igual al número de variables.\n",
    "\n",
    "**Valor de retorno:**\n",
    "\n",
    "La función `np.linalg.solve()` devuelve un vector que representa la solución del sistema de ecuaciones lineales.  \n",
    "  La longitud del vector de salida es $n$, igual al número de variables.\n",
    "  "
   ]
  },
  {
   "cell_type": "markdown",
   "id": "c8b72175-8401-4582-9ee9-23d6f83c7251",
   "metadata": {},
   "source": [
    "##### Resolver un sistema de ecuaciones lineales 2x2\n",
    "\n",
    "Consideremos el siguiente sistema de ecuaciones lineales:\n",
    "\n",
    "\\begin{eqnarray}\n",
    "2x + y &=& 4 \\\\\n",
    "3x - y &=& 5\n",
    "\\end{eqnarray}"
   ]
  },
  {
   "cell_type": "code",
   "execution_count": 33,
   "id": "6ed62b69-6e74-45c8-a81c-a7ee55df1014",
   "metadata": {},
   "outputs": [
    {
     "name": "stdout",
     "output_type": "stream",
     "text": [
      "Solución: [1.8 0.4]\n",
      "Solución: x = 1.8, y = 0.4000000000000002\n"
     ]
    }
   ],
   "source": [
    "# Matriz 2x2 de los coeficientes del sistema\n",
    "A = np.array([[2, 1], [3, -1]])\n",
    "# Vector de los términos independientes\n",
    "b = np.array([4, 5])\n",
    "\n",
    "# Solución del sistema de ecuaciones lineales.\n",
    "x = np.linalg.solve(A, b)\n",
    "\n",
    "# Imprimir solución:\n",
    "print(\"Solución:\", x)\n",
    "print(f'Solución: x = {x[0]}, y = {x[1]}')"
   ]
  },
  {
   "cell_type": "markdown",
   "id": "c273a59f-cd74-476c-81e3-a08d5c1c6aa5",
   "metadata": {},
   "source": [
    "##### Resolver un sistema de ecuaciones lineales 3x3\n",
    "\n",
    "Consideremos el siguiente sistema de ecuaciones lineales:\n",
    "\n",
    "\\begin{eqnarray}\n",
    "x + 2y + 3z &=& 6 \\\\\n",
    "2x + y - z &=& -1 \\\\\n",
    "x + y + z &=& 4\n",
    "\\end{eqnarray}"
   ]
  },
  {
   "cell_type": "code",
   "execution_count": 2,
   "id": "c5500b0e-864a-497a-98fe-b73064f067cd",
   "metadata": {},
   "outputs": [
    {
     "name": "stdout",
     "output_type": "stream",
     "text": [
      "Solución: [  9. -12.   7.]\n"
     ]
    }
   ],
   "source": [
    "# Matriz 2x2 de los coeficientes del sistema\n",
    "A = np.array([[1, 2, 3], [2, 1, -1], [1, 1, 1]])\n",
    "# Vector de los términos independientes\n",
    "b = np.array([6, -1, 4])\n",
    "\n",
    "# Solución del sistema de ecuaciones lineales.\n",
    "x = np.linalg.solve(A, b)\n",
    "\n",
    "# Imprimir solución:\n",
    "print(\"Solución:\", x)\n"
   ]
  },
  {
   "cell_type": "markdown",
   "id": "782cf12a-2413-4a20-887d-312d6c7a432e",
   "metadata": {},
   "source": [
    "## <font color='purple'> 5. Funciones Estadísticas (Medidas estadísticas) </font>\n",
    "\n",
    "NumPy ofrece un conjunto de funciones estadísticas para analizar y describir datos numéricos almacenados en arrays. \n",
    "Estas funciones abarcan una amplia gama de operaciones estadísticas comunes, desde medidas básicas de centralidad y \n",
    "dispersión hasta pruebas estadísticas más complejas.\n",
    "\n",
    "**Medidas básicas:**\n",
    "\n",
    "- `np.mean()`: Calcula la media aritmética de los elementos de un array.\n",
    "- `np.median()`: Calcula la mediana de los elementos de un array.\n",
    "- `np.mode()`: Calcula el modo (valor más frecuente) de los elementos de un array.\n",
    "\n",
    "**Medidas de dispersión:**\n",
    "\n",
    "- `np.var()`: Calcula la varianza de los elementos de un array.\n",
    "- `np.std()`: Calcula la desviación estándar de los elementos de un array.\n",
    "- `np.quantile()`: Calcula los cuartiles (percentiles 25, 50 y 75) de los elementos de un array.\n",
    "\n",
    "**Funciones de distribución de probabilidad:**\n",
    "\n",
    "- `np.random.rand()`: Genera números aleatorios uniformes entre 0 y 1.\n",
    "- `np.random.randn()`: Genera números aleatorios con distribución normal estándar.\n",
    "- `np.random.binomial()`: Genera números aleatorios con distribución binomial.\n",
    "- `np.random.poisson()`: Genera números aleatorios con distribución de Poisson.\n",
    "\n",
    "**Pruebas estadísticas:**\n",
    "\n",
    "- `np.t_test()`: Realiza una prueba t de Student para comparar dos muestras independientes.\n",
    "- `np.anova()`: Realiza un análisis de varianza (ANOVA) para comparar dos o más muestras.\n",
    "- `np.chi2_test()`: Realiza una prueba de chi-cuadrado para evaluar la independencia de dos variables categóricas.\n",
    "- `np.corrcoef()`: Calcula el coeficiente de correlación de Pearson entre dos variables.\n"
   ]
  },
  {
   "cell_type": "code",
   "execution_count": null,
   "id": "8bf7a0a6-5dae-4229-bf5c-4825253b7b18",
   "metadata": {},
   "outputs": [],
   "source": [
    "import numpy as np\n",
    "\n",
    "datos = np.array([10, 25, 32, 41, 28])\n",
    "\n",
    "# Media\n",
    "media = np.mean(datos)\n",
    "\n",
    "# Mediana\n",
    "mediana = np.median(datos)\n",
    "\n",
    "# Desviación estándar\n",
    "desviacion_estandar = np.std(datos)\n",
    "\n",
    "# Varianza\n",
    "varianza = np.var(datos)\n",
    "\n",
    "print(\"Media:\", media)\n",
    "print(\"Mediana:\", mediana)\n",
    "print(\"Desviación estándar:\", desviacion_estandar)\n",
    "print(\"Varianza:\", varianza)\n"
   ]
  },
  {
   "cell_type": "markdown",
   "id": "9c1cc38f-6b69-43f4-9805-f605f76be058",
   "metadata": {},
   "source": [
    "## <font color='purple'> 6. Indexación y segmentación </font>\n",
    "\n",
    "NumPy proporciona potentes herramientas para indexar y segmentar arrays de manera eficiente. \n",
    "Estas operaciones permiten acceder a elementos específicos dentro de un array o extraer subconjuntos de datos \n",
    "para su análisis o procesamiento.\n",
    "\n",
    "#### Indexación Básica:\n",
    "\n",
    "**Indexación única:** Se utiliza para acceder a un elemento específico dentro de un array utilizando su índice. \n",
    "La indexación comienza en 0."
   ]
  },
  {
   "cell_type": "code",
   "execution_count": null,
   "id": "6dca8548-ae0f-4371-8076-22fd8f1b4598",
   "metadata": {},
   "outputs": [],
   "source": [
    "# Array de ejemplo\n",
    "array_ejemplo = np.array([10, 20, 30, 40, 50])\n",
    "\n",
    "# Acceso al primer elemento (índice 0)\n",
    "elemento1 = array_ejemplo[0]\n",
    "\n",
    "# Acceso al último elemento (índice -1)\n",
    "ultimo_elemento = array_ejemplo[-1]\n",
    "\n",
    "print(\"Primer elemento:\", elemento1)\n",
    "print(\"Último elemento:\", ultimo_elemento)\n"
   ]
  },
  {
   "cell_type": "markdown",
   "id": "5fb7324d-86be-4221-a099-bcd9f16107ab",
   "metadata": {},
   "source": [
    "#### Indexación múltiple\n",
    "\n",
    "Permite acceder a elementos específicos dentro de un array multidimensional\n",
    "utilizando sus índices correspondientes en cada dimensión"
   ]
  },
  {
   "cell_type": "code",
   "execution_count": 9,
   "id": "8308cec3-27ab-42fa-9b37-84171929fa71",
   "metadata": {},
   "outputs": [
    {
     "name": "stdout",
     "output_type": "stream",
     "text": [
      "Elemento específico: 1\n"
     ]
    }
   ],
   "source": [
    "# Array bidimensional de ejemplo\n",
    "array_2D = np.array([[1, 2, 3], [4, 5, 6], [7, 8, 9]])\n",
    "\n",
    "# Acceso al elemento en la fila 1, columna 2\n",
    "elemento = array_2D[0, 0]\n",
    "\n",
    "print(\"Elemento específico:\", elemento)\n"
   ]
  },
  {
   "cell_type": "markdown",
   "id": "b80dad74-52e3-42dc-afad-37dc87b56d68",
   "metadata": {},
   "source": [
    "#### Segmentación:\n",
    "\n",
    "Segmentación de rangos permite extraer subconjuntos de datos de un array especificando un rango de índices."
   ]
  },
  {
   "cell_type": "code",
   "execution_count": 13,
   "id": "46f49227-6a56-42b7-8818-d190c3fb806e",
   "metadata": {},
   "outputs": [
    {
     "name": "stdout",
     "output_type": "stream",
     "text": [
      "Subconjunto 1: [10 20 30]\n",
      "Subconjunto 2: [40 50]\n"
     ]
    }
   ],
   "source": [
    "# Array de ejemplo\n",
    "array_ejemplo = np.array([10, 20, 30, 40, 50])\n",
    "\n",
    "# Segmentación de los primeros tres elementos\n",
    "subconjunto1 = array_ejemplo[:3]\n",
    "\n",
    "# Segmentación de los últimos dos elementos\n",
    "subconjunto2 = array_ejemplo[-2:]\n",
    "\n",
    "print(\"Subconjunto 1:\", subconjunto1)\n",
    "print(\"Subconjunto 2:\", subconjunto2)\n"
   ]
  },
  {
   "cell_type": "markdown",
   "id": "5a4e47a6-289f-4209-a1b9-2b836e56eb62",
   "metadata": {},
   "source": [
    "## <font color='purple'> 7. Lectura y escritura de datos en NumPy </font>\n",
    "\n",
    "En **NumPy**, la carga y escritura de datos en diferentes formatos, como CSV o TXT, es fundamental para trabajar \n",
    "con grandes conjuntos de datos. \n",
    "\n",
    "- **CSV (Comma-Separated Values):** Un archivo CSV es un archivo de texto plano sencillo para representar datos en forma de tabla, \n",
    "en las que las columnas se separan por comas y las filas por saltos de línea. Se utiliza comúnmente para almacenar datos tabulares (estructurados) que pueden ser importados y exportados fácilmente entre diferentes aplicaciones, como hojas de cálculo (Excel), \n",
    "bases de datos y programas de análisis de datos.\n",
    "\n",
    "```python\n",
    "# Ejemplo de archivo csv\n",
    "    \n",
    "Nombre, Edad, Ciudad\n",
    "Juan, 30, Madrid\n",
    "Ana, 25, Barcelona\n",
    "Pedro, 35, Valencia\n",
    "```\n",
    "- **TXT (Archivo de Texto Plano):** Un archivo TXT es simplemente un archivo de texto plano que no tiene un formato \n",
    "específico para organizar los datos. Puede contener cualquier tipo de texto y no sigue una estructura predefinida \n",
    "como un archivo CSV. Los archivos TXT pueden ser usados para cualquier propósito, \n",
    "como notas, configuración, datos sin formato, scripts, etc.\n",
    "\n",
    "```python\n",
    "# Ejemplo de archivo txt\n",
    "    \n",
    "1.1 2.2 3.3\n",
    "4.4 5.5 6.6\n",
    "7.7 8.8 9.9\n",
    "\n",
    "Esto es un archivo de texto sin formato\n",
    "Puede contener cualquier tipo de información sin estructura definida\n",
    "```\n",
    "\n",
    "---\n",
    "\n",
    "NumPy tiene funciones incorporadas para cargar datos desde archivos de texto, como `np.loadtxt()` y `np.genfromtxt()`.\n",
    "    \n",
    "\n",
    "    \n",
    "A continuación se muestran los métodos principales para cargar y guardar datos:"
   ]
  },
  {
   "cell_type": "markdown",
   "id": "8687556a-25b5-4c0a-af82-c99747cc1ae7",
   "metadata": {},
   "source": [
    "### <font color='purple'> 7.1 Cargar datos desde archivos: uso de `np.loadtxt()` </font> \n",
    "Es ideal para archivos de texto o CSV que tienen una estructura simple, donde todos los datos son del mismo tipo."
   ]
  },
  {
   "cell_type": "code",
   "execution_count": 12,
   "id": "550a2cd9-2a2b-4a33-97db-82cd3c59bfe8",
   "metadata": {},
   "outputs": [
    {
     "name": "stdout",
     "output_type": "stream",
     "text": [
      "[[1.1 2.2 3.3]\n",
      " [4.4 5.5 6.6]\n",
      " [7.7 8.8 9.9]]\n",
      "<class 'numpy.ndarray'>\n"
     ]
    }
   ],
   "source": [
    "import numpy as np\n",
    "\n",
    "# Cargar el archivo data.csv usando loadtxt\n",
    "data_1 = np.loadtxt('datos1.csv', delimiter=',')\n",
    "#data = np.loadtxt('/home/nquintero/Introduccion a Python_Ciencia de datos/datos1.csv', delimiter=',')\n",
    "print(data_1)\n",
    "print(type(data_1))"
   ]
  },
  {
   "cell_type": "code",
   "execution_count": 13,
   "id": "42ccc413-ed58-4a4b-b8a2-6c633eea9ae3",
   "metadata": {},
   "outputs": [
    {
     "name": "stdout",
     "output_type": "stream",
     "text": [
      "[[1.1 2.2 3.3]\n",
      " [4.4 5.5 6.6]\n",
      " [7.7 8.8 9.9]]\n"
     ]
    }
   ],
   "source": [
    "# Cargar el archivo data.txt usando loadtxt\n",
    "data_2 = np.loadtxt('datos1.txt')\n",
    "print(data_2)"
   ]
  },
  {
   "cell_type": "markdown",
   "id": "6e141665-064a-4bb1-8570-1a933300403d",
   "metadata": {},
   "source": [
    "### <font color='purple'> 7.2 Cargar datos desde archivos: uso de `np.genfromtxt()` </font> \n",
    "\n",
    "Este método es más robusto y puede manejar casos con datos faltantes o incluso cuando algunas líneas tienen un formato diferente."
   ]
  },
  {
   "cell_type": "code",
   "execution_count": 14,
   "id": "56c9fbe6-a0ec-4081-b2e7-e4ae4d98e4b6",
   "metadata": {},
   "outputs": [
    {
     "name": "stdout",
     "output_type": "stream",
     "text": [
      "[[1.1 2.2 3.3]\n",
      " [4.4 nan 6.6]\n",
      " [7.7 8.8 9.9]]\n"
     ]
    }
   ],
   "source": [
    "import numpy as np\n",
    "\n",
    "# Cargar el archivo .csv con valores faltantes usando genfromtxt\n",
    "datos_faltantes = np.genfromtxt('datos_faltantes.csv', delimiter=',', filling_values=np.nan)\n",
    "# filling_values=np.nan: Especifica con qué valor se llenan los espacios vacíos (en este caso, con NaN).\n",
    "\n",
    "print(datos_faltantes)\n"
   ]
  },
  {
   "cell_type": "markdown",
   "id": "5f0d2adc-41a3-44bb-97ba-64498c781076",
   "metadata": {},
   "source": [
    "### <font color='purple'> 7.3. Guardar datos en archivos:`np.savetxt()`. </font> \n",
    "\n",
    "**NumPy** también permite guardar datos en archivos de texto y CSV.\n"
   ]
  },
  {
   "cell_type": "code",
   "execution_count": 15,
   "id": "ebda9d41-8163-4e1a-bcee-282b66567b98",
   "metadata": {},
   "outputs": [],
   "source": [
    "import numpy as np\n",
    "\n",
    "# Crear un arreglo de ejemplo\n",
    "data = np.array([[1, 2, 3], [4, 5, 6], [7, 8, 9]])\n",
    "\n",
    "# Guardar en un archivo CSV\n",
    "np.savetxt('output.csv', data, delimiter=',')\n",
    "\n",
    "# delimiter=',' especifica que los datos están separados por comas."
   ]
  },
  {
   "cell_type": "code",
   "execution_count": 16,
   "id": "2ea951ec-b82b-49ea-9688-850f47a81249",
   "metadata": {},
   "outputs": [
    {
     "name": "stdout",
     "output_type": "stream",
     "text": [
      "/home/nquintero/Introduccion a Python_Ciencia de datos\n"
     ]
    }
   ],
   "source": [
    "import os\n",
    "print(os.getcwd())  # Muestra el directorio actual de trabajo\n"
   ]
  },
  {
   "cell_type": "code",
   "execution_count": 17,
   "id": "9d7853ee-8525-4c7a-82cb-6509021deef1",
   "metadata": {},
   "outputs": [
    {
     "name": "stdout",
     "output_type": "stream",
     "text": [
      "Archivos en el directorio actual:\n",
      "['Introduccion a NumPy.ipynb', 'datos_faltantes.csv', 'Introduccion a Matplotlib.ipynb', 'datos1.txt', 'datosfit.csv', 'Ajuste de datos con NumPy.ipynb', 'datos1.csv', 'output.csv', '.ipynb_checkpoints']\n"
     ]
    }
   ],
   "source": [
    "import os\n",
    "\n",
    "# Listar archivos en el directorio actual\n",
    "print(\"Archivos en el directorio actual:\")\n",
    "print(os.listdir())\n"
   ]
  },
  {
   "cell_type": "code",
   "execution_count": 20,
   "id": "9a2f1486-a400-434a-ae7d-d707d20785f8",
   "metadata": {},
   "outputs": [],
   "source": [
    "import numpy as np\n",
    "\n",
    "# Generar una matriz de 5x3 con números aleatorios flotantes entre 0 y 1\n",
    "data_float = np.random.rand(5, 3)\n",
    "\n",
    "# Guardar los datos en un archivo CSV\n",
    "np.savetxt('data_float.csv', data, delimiter=',', header='Col1,Col2,Col3', comments='')"
   ]
  },
  {
   "cell_type": "markdown",
   "id": "66a3d9fb-d00d-4f95-83df-b270ae00acf2",
   "metadata": {},
   "source": [
    "##### Notas:\n",
    "\n",
    "- delimiter=',' especifica que los datos están separados por comas.\n",
    "- header='Col1,Col2,Col3' añade una fila de encabezado al archivo CSV. Si no quieres un encabezado, puedes omitir esta opción.\n",
    "- comments='' evita que NumPy añada un símbolo de comentario (#) antes del encabezado."
   ]
  },
  {
   "cell_type": "code",
   "execution_count": 21,
   "id": "a4f537b5-ebb2-4c99-82fc-4167521e8188",
   "metadata": {},
   "outputs": [
    {
     "name": "stdout",
     "output_type": "stream",
     "text": [
      "Archivos en el directorio actual:\n",
      "['Introduccion a NumPy.ipynb', 'datos_faltantes.csv', 'Introduccion a Matplotlib.ipynb', 'datos1.txt', 'datosfit.csv', 'Ajuste de datos con NumPy.ipynb', 'datos1.csv', 'output.csv', '.ipynb_checkpoints', 'data_float.csv']\n"
     ]
    }
   ],
   "source": [
    "# Listar archivos en el directorio actual\n",
    "print(\"Archivos en el directorio actual:\")\n",
    "print(os.listdir())"
   ]
  },
  {
   "cell_type": "markdown",
   "id": "e73a1283-584a-4783-a805-abc5a905c5b2",
   "metadata": {},
   "source": [
    "## <font color='purple'> 8. Ajuste de datos en NumPy: Uso de `np.polyfit()` </font>\n",
    "\n",
    "La función `np.polyfit()` se usa para ajustar un polinomio a un conjunto de datos utilizando el método de mínimos cuadrados. \n",
    "Es especialmente útil para realizar regresión polinómica.\n",
    "\n",
    "```python\n",
    "# Sintaxis:\n",
    "    np.polyfit(x, y, deg, ...)\n",
    "\n",
    "# Parámetros\n",
    "\n",
    "# x: array_like Datos independientes (variables predictoras).\n",
    "# y: array_like Datos dependientes (respuestas).\n",
    "# deg: int Grado del polinomio a ajustar. Por ejemplo, 1 para una línea, 2 para una parábola, etc.\n",
    "```"
   ]
  },
  {
   "cell_type": "code",
   "execution_count": 22,
   "id": "5ada6e63-7bba-46d2-9731-2642fbc69dc7",
   "metadata": {},
   "outputs": [
    {
     "data": {
      "image/png": "[encoded data removed]",
      "text/plain": [
       "<Figure size 640x480 with 1 Axes>"
      ]
     },
     "metadata": {},
     "output_type": "display_data"
    }
   ],
   "source": [
    "import numpy as np\n",
    "import matplotlib.pyplot as plt\n",
    "\n",
    "# Paso 1: Cargar los datos desde el archivo CSV\n",
    "data = np.loadtxt('datosfit.csv', delimiter=',', skiprows=1)  # skiprows=1 para omitir la fila de encabezado\n",
    "x = data[:, 0]  # Extrae la primera columna, que contiene los valores de x\n",
    "y = data[:, 1]  # Extrae la segunda columna, que contiene los valores de y\n",
    "\n",
    "# Paso 2: Ajustar una línea (polinomio de grado 1)\n",
    "coefficients = np.polyfit(x, y, 1)  # Ajusta un polinomio de grado 1 (línea)\n",
    "slope, intercept = coefficients\n",
    "\n",
    "# Crear una función del polinomio ajustado\n",
    "polynomial = np.poly1d(coefficients)\n",
    "\n",
    "# Paso 3: Visualizar los datos y la línea ajustada\n",
    "plt.scatter(x, y, color='blue', label='Datos originales')\n",
    "plt.plot(x, polynomial(x), color='red', label=f'Ajuste lineal: y = {slope:.2f}x + {intercept:.2f}')\n",
    "plt.xlabel('x')\n",
    "plt.ylabel('y')\n",
    "plt.legend()\n",
    "plt.title('Ajuste Lineal')\n",
    "plt.show()"
   ]
  },
  {
   "cell_type": "code",
   "execution_count": null,
   "id": "7087f384-5efd-4ea7-b4a8-80212b77fa69",
   "metadata": {},
   "outputs": [],
   "source": []
  }
 ],
 "metadata": {
  "kernelspec": {
   "display_name": "Python 3 (ipykernel)",
   "language": "python",
   "name": "python3"
  },
  "language_info": {
   "codemirror_mode": {
    "name": "ipython",
    "version": 3
   },
   "file_extension": ".py",
   "mimetype": "text/x-python",
   "name": "python",
   "nbconvert_exporter": "python",
   "pygments_lexer": "ipython3",
   "version": "3.10.12"
  }
 },
 "nbformat": 4,
 "nbformat_minor": 5
}
